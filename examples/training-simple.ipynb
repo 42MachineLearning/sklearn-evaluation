{
 "cells": [
  {
   "cell_type": "markdown",
   "metadata": {},
   "source": [
    "# Simple training (no hyperparameter tuning)\n",
    "Tips and tricks: https://inclass.kaggle.com/c/deloitte-tackles-titanic/forums/t/9841/getting-high-scores-without-looking-at-actual-data-set"
   ]
  },
  {
   "cell_type": "code",
   "execution_count": 1,
   "metadata": {
    "collapsed": false
   },
   "outputs": [],
   "source": [
    "import pandas as pd\n",
    "import numpy as np\n",
    "import matplotlib.pyplot as plt\n",
    "from sklearn import ensemble, svm\n",
    "from sklearn import cross_validation\n",
    "from sklearn import preprocessing\n",
    "from sklearn import metrics\n",
    "\n",
    "#Plots config\n",
    "%matplotlib inline\n",
    "pd.set_option('display.mpl_style', 'default') # Make the graphs a bit prettier\n",
    "plt.rcParams['figure.figsize'] = (15, 5)"
   ]
  },
  {
   "cell_type": "code",
   "execution_count": 21,
   "metadata": {
    "collapsed": false
   },
   "outputs": [],
   "source": [
    "#Add plots module to path\n",
    "import sys\n",
    "sys.path.append('/Users/Edu/Development/open-source/sklearn-model-evaluation')\n",
    "import plots as p\n",
    "import helpers as h"
   ]
  },
  {
   "cell_type": "markdown",
   "metadata": {},
   "source": [
    "## Data loading"
   ]
  },
  {
   "cell_type": "code",
   "execution_count": 3,
   "metadata": {
    "collapsed": false
   },
   "outputs": [],
   "source": [
    "#Read the data\n",
    "train = pd.read_csv(\"train_clean.csv\", index_col='PassengerId')\n",
    "test = pd.read_csv('test_clean.csv', index_col='PassengerId')"
   ]
  },
  {
   "cell_type": "markdown",
   "metadata": {},
   "source": [
    "## Model training"
   ]
  },
  {
   "cell_type": "code",
   "execution_count": 4,
   "metadata": {
    "collapsed": false
   },
   "outputs": [],
   "source": [
    "#RandomForest\n",
    "rf = ensemble.RandomForestClassifier(n_jobs = -1,\n",
    "                                     bootstrap = True,\n",
    "                                     criterion = 'entropy',\n",
    "                                     max_features = 'log2',\n",
    "                                     n_estimators = 100)\n",
    "#AdaBoost\n",
    "ab = ensemble.AdaBoostClassifier(n_estimators = 10)\n",
    "#SVC\n",
    "svc = svm.SVC(C = 100,\n",
    "              gamma = 0.01,\n",
    "              kernel = 'rbf')"
   ]
  },
  {
   "cell_type": "code",
   "execution_count": 5,
   "metadata": {
    "collapsed": false
   },
   "outputs": [],
   "source": [
    "#Prepare train and test features\n",
    "train_x = train.drop(['Survived'], axis=1).values\n",
    "test_x = test.values\n",
    "#Prepare train and test scaled features (for SVC)\n",
    "scaler = preprocessing.StandardScaler().fit(train_x)\n",
    "train_x_scaled = scaler.transform(train_x)\n",
    "test_x_scaled  = scaler.transform(test_x)\n",
    "#Prepare train outcome\n",
    "train_y = train['Survived']\n",
    "\n",
    "#Create feature list\n",
    "feature_list = list(train.drop(['Survived'], axis=1))"
   ]
  },
  {
   "cell_type": "code",
   "execution_count": 6,
   "metadata": {
    "collapsed": false
   },
   "outputs": [
    {
     "data": {
      "text/plain": [
       "RandomForestClassifier(bootstrap=True, class_weight=None, criterion='entropy',\n",
       "            max_depth=None, max_features='log2', max_leaf_nodes=None,\n",
       "            min_samples_leaf=1, min_samples_split=2,\n",
       "            min_weight_fraction_leaf=0.0, n_estimators=100, n_jobs=-1,\n",
       "            oob_score=False, random_state=None, verbose=0,\n",
       "            warm_start=False)"
      ]
     },
     "execution_count": 6,
     "metadata": {},
     "output_type": "execute_result"
    }
   ],
   "source": [
    "#Train random forest\n",
    "rf.fit(train_x, train_y)"
   ]
  },
  {
   "cell_type": "code",
   "execution_count": 7,
   "metadata": {
    "collapsed": false
   },
   "outputs": [
    {
     "data": {
      "text/plain": [
       "SVC(C=100, cache_size=200, class_weight=None, coef0=0.0, degree=3, gamma=0.01,\n",
       "  kernel='rbf', max_iter=-1, probability=False, random_state=None,\n",
       "  shrinking=True, tol=0.001, verbose=False)"
      ]
     },
     "execution_count": 7,
     "metadata": {},
     "output_type": "execute_result"
    }
   ],
   "source": [
    "#Train svc\n",
    "svc.fit(train_x_scaled, train_y)"
   ]
  },
  {
   "cell_type": "code",
   "execution_count": 8,
   "metadata": {
    "collapsed": false
   },
   "outputs": [
    {
     "data": {
      "text/plain": [
       "AdaBoostClassifier(algorithm='SAMME.R', base_estimator=None,\n",
       "          learning_rate=1.0, n_estimators=10, random_state=None)"
      ]
     },
     "execution_count": 8,
     "metadata": {},
     "output_type": "execute_result"
    }
   ],
   "source": [
    "#Train adaboost\n",
    "ab.fit(train_x, train_y)"
   ]
  },
  {
   "cell_type": "markdown",
   "metadata": {},
   "source": [
    "## Predict on training set (using cross-validation)"
   ]
  },
  {
   "cell_type": "code",
   "execution_count": 9,
   "metadata": {
    "collapsed": true
   },
   "outputs": [],
   "source": [
    "#Since we are using all data for training, generate predictions\n",
    "#for evaluation using cross-validation\n",
    "rf_pred  = cross_validation.cross_val_predict(rf,\n",
    "                                              train_x,\n",
    "                                              train_y,\n",
    "                                              cv=5)"
   ]
  },
  {
   "cell_type": "code",
   "execution_count": 10,
   "metadata": {
    "collapsed": true
   },
   "outputs": [],
   "source": [
    "svc_pred = cross_validation.cross_val_predict(svc,\n",
    "                                              train_x_scaled,\n",
    "                                              train_y,\n",
    "                                              cv=5)"
   ]
  },
  {
   "cell_type": "code",
   "execution_count": 11,
   "metadata": {
    "collapsed": true
   },
   "outputs": [],
   "source": [
    "ab_pred  = cross_validation.cross_val_predict(ab,\n",
    "                                              train_x,\n",
    "                                              train_y,\n",
    "                                              cv=5)"
   ]
  },
  {
   "cell_type": "markdown",
   "metadata": {},
   "source": [
    "## Model evaluation"
   ]
  },
  {
   "cell_type": "code",
   "execution_count": 12,
   "metadata": {
    "collapsed": false,
    "scrolled": false
   },
   "outputs": [
    {
     "name": "stdout",
     "output_type": "stream",
     "text": [
      "RandomForest\n",
      "             precision    recall  f1-score   support\n",
      "\n",
      "        0.0       0.83      0.86      0.84       549\n",
      "        1.0       0.76      0.72      0.74       342\n",
      "\n",
      "avg / total       0.80      0.80      0.80       891\n",
      "\n",
      "\n",
      "\n",
      "\n",
      "\n",
      "SVC\n",
      "             precision    recall  f1-score   support\n",
      "\n",
      "        0.0       0.83      0.89      0.86       549\n",
      "        1.0       0.80      0.71      0.75       342\n",
      "\n",
      "avg / total       0.82      0.82      0.82       891\n",
      "\n",
      "\n",
      "\n",
      "\n",
      "\n",
      "AdaBoost\n",
      "             precision    recall  f1-score   support\n",
      "\n",
      "        0.0       0.85      0.86      0.86       549\n",
      "        1.0       0.77      0.75      0.76       342\n",
      "\n",
      "avg / total       0.82      0.82      0.82       891\n",
      "\n"
     ]
    }
   ],
   "source": [
    "print(\"RandomForest\")\n",
    "print(metrics.classification_report(train_y, rf_pred))\n",
    "print(\"\\n\\n\\n\")\n",
    "\n",
    "print(\"SVC\")\n",
    "print(metrics.classification_report(train_y, svc_pred))\n",
    "print(\"\\n\\n\\n\")\n",
    "\n",
    "print(\"AdaBoost\")\n",
    "print(metrics.classification_report(train_y, ab_pred))"
   ]
  },
  {
   "cell_type": "code",
   "execution_count": 13,
   "metadata": {
    "collapsed": false
   },
   "outputs": [
    {
     "name": "stdout",
     "output_type": "stream",
     "text": [
      "RandomForest accuracy:\n",
      "0.803591470258\n",
      "\n",
      "SVC accuracy:\n",
      "0.820426487093\n",
      "\n",
      "AdaBoost accuracy:\n",
      "0.821548821549\n"
     ]
    }
   ],
   "source": [
    "#Compute accuracy (that's the evaluation metric \n",
    "#for this competition)\n",
    "print(\"RandomForest accuracy:\")\n",
    "print(metrics.accuracy_score(train_y, rf_pred))\n",
    "print(\"\\nSVC accuracy:\")\n",
    "print(metrics.accuracy_score(train_y, svc_pred))\n",
    "print(\"\\nAdaBoost accuracy:\")\n",
    "print(metrics.accuracy_score(train_y, ab_pred))"
   ]
  },
  {
   "cell_type": "markdown",
   "metadata": {},
   "source": [
    "## Feature importance"
   ]
  },
  {
   "cell_type": "code",
   "execution_count": 22,
   "metadata": {
    "collapsed": false
   },
   "outputs": [
    {
     "name": "stdout",
     "output_type": "stream",
     "text": [
      "Feature ranking:\n",
      "1. feature 0 - Fare (0.228245)\n",
      "2. feature 4 - EstimatedAge (0.224866)\n",
      "3. feature 23 - Mr (0.072779)\n",
      "4. feature 7 - male (0.067724)\n",
      "5. feature 6 - female (0.067012)\n"
     ]
    }
   ],
   "source": [
    "imp = h.feature_importances_table(rf, feature_list)\n",
    "# Print the feature ranking\n",
    "print(\"Feature ranking:\")    \n",
    "for i,t in enumerate(imp[0:5]):\n",
    "    print(\"%d. feature %d - %s (%f)\" % (i+1, t['num'], t['name'], t['importance']))"
   ]
  },
  {
   "cell_type": "code",
   "execution_count": 20,
   "metadata": {
    "collapsed": false
   },
   "outputs": [
    {
     "data": {
      "image/png": "[encoded data removed]",
      "text/plain": [
       "<matplotlib.figure.Figure at 0x111e94990>"
      ]
     },
     "execution_count": 20,
     "metadata": {},
     "output_type": "execute_result"
    }
   ],
   "source": [
    "p.feature_importance_plot(rf, feature_list)"
   ]
  },
  {
   "cell_type": "markdown",
   "metadata": {},
   "source": [
    "## Identifying wrong predictions"
   ]
  },
  {
   "cell_type": "code",
   "execution_count": null,
   "metadata": {
    "collapsed": true
   },
   "outputs": [],
   "source": []
  }
 ],
 "metadata": {
  "kernelspec": {
   "display_name": "Python 2",
   "language": "python",
   "name": "python2"
  },
  "language_info": {
   "codemirror_mode": {
    "name": "ipython",
    "version": 2
   },
   "file_extension": ".py",
   "mimetype": "text/x-python",
   "name": "python",
   "nbconvert_exporter": "python",
   "pygments_lexer": "ipython2",
   "version": "2.7.10"
  }
 },
 "nbformat": 4,
 "nbformat_minor": 0
}
